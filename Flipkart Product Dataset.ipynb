{
 "cells": [
  {
   "cell_type": "markdown",
   "id": "ae859811",
   "metadata": {},
   "source": [
    "# DATA CLEANING AND ANALYSIS\n",
    "## Flipkart Product Dataset is a dataset gotten from Kaggle and i will be performing the necessary cleaning and analysis\n",
    "#### DATA CLEANING AND ANALYSIS BY: `GABRIEL STEVEN` "
   ]
  },
  {
   "cell_type": "markdown",
   "id": "a8f03e71",
   "metadata": {},
   "source": [
    "### Category1, Category2, Category 3 : Specifies the division in which the data belongs as per the website.\n",
    "### Title : Title of the product.\n",
    "### Product Rating : Customer based rating of the product.\n",
    "### Selling Price : Price at which the product was being sold on the date of scrapping.\n",
    "### MRP : MRP of the product.\n",
    "### Seller Name : Name of the business selling the product.\n",
    "### Seller Rating : Rating of the same seller based on the customers.\n",
    "### Description : Description of product if available.\n",
    "### Highlights : Highlights of the product if available.\n",
    "### Image Links : Image link of the product."
   ]
  },
  {
   "cell_type": "code",
   "execution_count": 375,
   "id": "f728e2f7",
   "metadata": {},
   "outputs": [],
   "source": [
    "import pandas as pd\n",
    "import matplotlib.pyplot as plt\n",
    "%matplotlib inline\n",
    "import seaborn as sns"
   ]
  },
  {
   "cell_type": "code",
   "execution_count": 376,
   "id": "1e60914b",
   "metadata": {},
   "outputs": [],
   "source": [
    "df = pd.read_csv('dataset.csv')\n",
    "pd.set_option('display.max_column', 100)"
   ]
  },
  {
   "cell_type": "code",
   "execution_count": 377,
   "id": "09aa640d",
   "metadata": {},
   "outputs": [
    {
     "data": {
      "text/html": [
       "<div>\n",
       "<style scoped>\n",
       "    .dataframe tbody tr th:only-of-type {\n",
       "        vertical-align: middle;\n",
       "    }\n",
       "\n",
       "    .dataframe tbody tr th {\n",
       "        vertical-align: top;\n",
       "    }\n",
       "\n",
       "    .dataframe thead th {\n",
       "        text-align: right;\n",
       "    }\n",
       "</style>\n",
       "<table border=\"1\" class=\"dataframe\">\n",
       "  <thead>\n",
       "    <tr style=\"text-align: right;\">\n",
       "      <th></th>\n",
       "      <th>category_1</th>\n",
       "      <th>category_2</th>\n",
       "      <th>category_3</th>\n",
       "      <th>title</th>\n",
       "      <th>product_rating</th>\n",
       "      <th>selling_price</th>\n",
       "      <th>mrp</th>\n",
       "      <th>seller_name</th>\n",
       "      <th>seller_rating</th>\n",
       "      <th>description</th>\n",
       "      <th>highlights</th>\n",
       "      <th>image_links</th>\n",
       "    </tr>\n",
       "  </thead>\n",
       "  <tbody>\n",
       "    <tr>\n",
       "      <th>0</th>\n",
       "      <td>Sports, Books and More</td>\n",
       "      <td>Sports</td>\n",
       "      <td>Cricket</td>\n",
       "      <td>ITWOSERVICES CRICKET NET 100X10 CRICKET NET NY...</td>\n",
       "      <td>4.4</td>\n",
       "      <td>₹1,615</td>\n",
       "      <td>₹4,000</td>\n",
       "      <td>I2SERVICES</td>\n",
       "      <td>4.4</td>\n",
       "      <td>NaN</td>\n",
       "      <td>Cricket Practice Net NYLON HDPE Material W x H...</td>\n",
       "      <td>https://rukminim1.flixcart.com/image/612/612/x...</td>\n",
       "    </tr>\n",
       "    <tr>\n",
       "      <th>1</th>\n",
       "      <td>Sports, Books and More</td>\n",
       "      <td>Sports</td>\n",
       "      <td>Cricket</td>\n",
       "      <td>ITWOSERVICES CRICKET NET GROUND BOUNDARY NET 1...</td>\n",
       "      <td>4.4</td>\n",
       "      <td>₹152</td>\n",
       "      <td>₹600</td>\n",
       "      <td>I2SERVICES</td>\n",
       "      <td>4.4</td>\n",
       "      <td>10 X  10 GREEN CRICKET NET HDPE NYLON.</td>\n",
       "      <td>Cricket HDPE NYLON Material W x H x D: 3.048 x...</td>\n",
       "      <td>https://rukminim1.flixcart.com/image/612/612/x...</td>\n",
       "    </tr>\n",
       "    <tr>\n",
       "      <th>2</th>\n",
       "      <td>Sports, Books and More</td>\n",
       "      <td>Sports</td>\n",
       "      <td>Cricket</td>\n",
       "      <td>VICTORY Medium Weight ( Pack of 1 ) Rubber Cri...</td>\n",
       "      <td>3.7</td>\n",
       "      <td>₹59</td>\n",
       "      <td>₹199</td>\n",
       "      <td>VictoryOutlets</td>\n",
       "      <td>4.7</td>\n",
       "      <td>NaN</td>\n",
       "      <td>Cricket Rubber Ball Weight: 110 g</td>\n",
       "      <td>https://rukminim1.flixcart.com/image/612/612/x...</td>\n",
       "    </tr>\n",
       "  </tbody>\n",
       "</table>\n",
       "</div>"
      ],
      "text/plain": [
       "               category_1 category_2 category_3  \\\n",
       "0  Sports, Books and More     Sports   Cricket    \n",
       "1  Sports, Books and More     Sports   Cricket    \n",
       "2  Sports, Books and More     Sports   Cricket    \n",
       "\n",
       "                                               title  product_rating  \\\n",
       "0  ITWOSERVICES CRICKET NET 100X10 CRICKET NET NY...             4.4   \n",
       "1  ITWOSERVICES CRICKET NET GROUND BOUNDARY NET 1...             4.4   \n",
       "2  VICTORY Medium Weight ( Pack of 1 ) Rubber Cri...             3.7   \n",
       "\n",
       "  selling_price     mrp     seller_name  seller_rating  \\\n",
       "0        ₹1,615  ₹4,000      I2SERVICES            4.4   \n",
       "1          ₹152    ₹600      I2SERVICES            4.4   \n",
       "2           ₹59    ₹199  VictoryOutlets            4.7   \n",
       "\n",
       "                              description  \\\n",
       "0                                     NaN   \n",
       "1  10 X  10 GREEN CRICKET NET HDPE NYLON.   \n",
       "2                                     NaN   \n",
       "\n",
       "                                          highlights  \\\n",
       "0  Cricket Practice Net NYLON HDPE Material W x H...   \n",
       "1  Cricket HDPE NYLON Material W x H x D: 3.048 x...   \n",
       "2                  Cricket Rubber Ball Weight: 110 g   \n",
       "\n",
       "                                         image_links  \n",
       "0  https://rukminim1.flixcart.com/image/612/612/x...  \n",
       "1  https://rukminim1.flixcart.com/image/612/612/x...  \n",
       "2  https://rukminim1.flixcart.com/image/612/612/x...  "
      ]
     },
     "execution_count": 377,
     "metadata": {},
     "output_type": "execute_result"
    }
   ],
   "source": [
    "df.head(3)"
   ]
  },
  {
   "cell_type": "code",
   "execution_count": 378,
   "id": "edadd587",
   "metadata": {},
   "outputs": [
    {
     "data": {
      "text/plain": [
       "(12041, 12)"
      ]
     },
     "execution_count": 378,
     "metadata": {},
     "output_type": "execute_result"
    }
   ],
   "source": [
    "df.shape"
   ]
  },
  {
   "cell_type": "code",
   "execution_count": 379,
   "id": "a4dd22b3",
   "metadata": {},
   "outputs": [
    {
     "name": "stdout",
     "output_type": "stream",
     "text": [
      "<class 'pandas.core.frame.DataFrame'>\n",
      "RangeIndex: 12041 entries, 0 to 12040\n",
      "Data columns (total 12 columns):\n",
      " #   Column          Non-Null Count  Dtype  \n",
      "---  ------          --------------  -----  \n",
      " 0   category_1      12041 non-null  object \n",
      " 1   category_2      12041 non-null  object \n",
      " 2   category_3      12041 non-null  object \n",
      " 3   title           12023 non-null  object \n",
      " 4   product_rating  11961 non-null  float64\n",
      " 5   selling_price   12013 non-null  object \n",
      " 6   mrp             11666 non-null  object \n",
      " 7   seller_name     11825 non-null  object \n",
      " 8   seller_rating   11827 non-null  float64\n",
      " 9   description     5021 non-null   object \n",
      " 10  highlights      6560 non-null   object \n",
      " 11  image_links     12041 non-null  object \n",
      "dtypes: float64(2), object(10)\n",
      "memory usage: 1.1+ MB\n"
     ]
    }
   ],
   "source": [
    "df.info()"
   ]
  },
  {
   "cell_type": "code",
   "execution_count": 380,
   "id": "79f6a8ee",
   "metadata": {},
   "outputs": [
    {
     "data": {
      "text/plain": [
       "category_1           0\n",
       "category_2           0\n",
       "category_3           0\n",
       "title               18\n",
       "product_rating      80\n",
       "selling_price       28\n",
       "mrp                375\n",
       "seller_name        216\n",
       "seller_rating      214\n",
       "description       7020\n",
       "highlights        5481\n",
       "image_links          0\n",
       "dtype: int64"
      ]
     },
     "execution_count": 380,
     "metadata": {},
     "output_type": "execute_result"
    }
   ],
   "source": [
    "# we need to get the sum of the values with NaN\n",
    "df.isna().sum()"
   ]
  },
  {
   "cell_type": "code",
   "execution_count": 381,
   "id": "2cb94416",
   "metadata": {},
   "outputs": [
    {
     "data": {
      "text/html": [
       "<div>\n",
       "<style scoped>\n",
       "    .dataframe tbody tr th:only-of-type {\n",
       "        vertical-align: middle;\n",
       "    }\n",
       "\n",
       "    .dataframe tbody tr th {\n",
       "        vertical-align: top;\n",
       "    }\n",
       "\n",
       "    .dataframe thead th {\n",
       "        text-align: right;\n",
       "    }\n",
       "</style>\n",
       "<table border=\"1\" class=\"dataframe\">\n",
       "  <thead>\n",
       "    <tr style=\"text-align: right;\">\n",
       "      <th></th>\n",
       "      <th>category_1</th>\n",
       "      <th>category_2</th>\n",
       "      <th>category_3</th>\n",
       "      <th>title</th>\n",
       "      <th>product_rating</th>\n",
       "      <th>selling_price</th>\n",
       "      <th>mrp</th>\n",
       "      <th>seller_name</th>\n",
       "      <th>seller_rating</th>\n",
       "      <th>description</th>\n",
       "      <th>highlights</th>\n",
       "      <th>image_links</th>\n",
       "    </tr>\n",
       "  </thead>\n",
       "  <tbody>\n",
       "    <tr>\n",
       "      <th>310</th>\n",
       "      <td>Sports, Books and More</td>\n",
       "      <td>Exercise Fitness</td>\n",
       "      <td>Cardio Equipment</td>\n",
       "      <td>NaN</td>\n",
       "      <td>NaN</td>\n",
       "      <td>NaN</td>\n",
       "      <td>NaN</td>\n",
       "      <td>NaN</td>\n",
       "      <td>NaN</td>\n",
       "      <td>NaN</td>\n",
       "      <td>NaN</td>\n",
       "      <td>https://rukminim1.flixcart.com/image/612/612/k...</td>\n",
       "    </tr>\n",
       "    <tr>\n",
       "      <th>681</th>\n",
       "      <td>Sports, Books and More</td>\n",
       "      <td>Food Essentials</td>\n",
       "      <td>Chocolates</td>\n",
       "      <td>NaN</td>\n",
       "      <td>NaN</td>\n",
       "      <td>NaN</td>\n",
       "      <td>NaN</td>\n",
       "      <td>NaN</td>\n",
       "      <td>NaN</td>\n",
       "      <td>NaN</td>\n",
       "      <td>NaN</td>\n",
       "      <td>https://rukminim1.flixcart.com/image/612/612/x...</td>\n",
       "    </tr>\n",
       "    <tr>\n",
       "      <th>1578</th>\n",
       "      <td>Sports, Books and More</td>\n",
       "      <td>Industrial &amp;Scientific tools</td>\n",
       "      <td>Packaging and Shipping Products</td>\n",
       "      <td>NaN</td>\n",
       "      <td>NaN</td>\n",
       "      <td>NaN</td>\n",
       "      <td>NaN</td>\n",
       "      <td>NaN</td>\n",
       "      <td>NaN</td>\n",
       "      <td>NaN</td>\n",
       "      <td>NaN</td>\n",
       "      <td>https://rukminim1.flixcart.com/image/612/612/k...</td>\n",
       "    </tr>\n",
       "    <tr>\n",
       "      <th>1936</th>\n",
       "      <td>Electronics</td>\n",
       "      <td>Mobile Accessories</td>\n",
       "      <td>Screenguards</td>\n",
       "      <td>NaN</td>\n",
       "      <td>NaN</td>\n",
       "      <td>NaN</td>\n",
       "      <td>NaN</td>\n",
       "      <td>NaN</td>\n",
       "      <td>NaN</td>\n",
       "      <td>NaN</td>\n",
       "      <td>NaN</td>\n",
       "      <td>https://rukminim1.flixcart.com/image/612/612/k...</td>\n",
       "    </tr>\n",
       "    <tr>\n",
       "      <th>2164</th>\n",
       "      <td>Electronics</td>\n",
       "      <td>Smart Wearable Tech</td>\n",
       "      <td>Smart Watches</td>\n",
       "      <td>NaN</td>\n",
       "      <td>NaN</td>\n",
       "      <td>NaN</td>\n",
       "      <td>NaN</td>\n",
       "      <td>NaN</td>\n",
       "      <td>NaN</td>\n",
       "      <td>NaN</td>\n",
       "      <td>NaN</td>\n",
       "      <td>https://rukminim1.flixcart.com/image/612/612/x...</td>\n",
       "    </tr>\n",
       "    <tr>\n",
       "      <th>3557</th>\n",
       "      <td>Men's wear</td>\n",
       "      <td>Bottom Wear</td>\n",
       "      <td>Casual Trousers</td>\n",
       "      <td>NaN</td>\n",
       "      <td>NaN</td>\n",
       "      <td>NaN</td>\n",
       "      <td>NaN</td>\n",
       "      <td>NaN</td>\n",
       "      <td>NaN</td>\n",
       "      <td>NaN</td>\n",
       "      <td>NaN</td>\n",
       "      <td>https://rukminim1.flixcart.com/image/612/612/x...</td>\n",
       "    </tr>\n",
       "    <tr>\n",
       "      <th>4516</th>\n",
       "      <td>Men's wear</td>\n",
       "      <td>Innerwear and loungewear</td>\n",
       "      <td>Night Suits</td>\n",
       "      <td>NaN</td>\n",
       "      <td>NaN</td>\n",
       "      <td>NaN</td>\n",
       "      <td>NaN</td>\n",
       "      <td>NaN</td>\n",
       "      <td>NaN</td>\n",
       "      <td>NaN</td>\n",
       "      <td>NaN</td>\n",
       "      <td>https://rukminim1.flixcart.com/image/612/612/x...</td>\n",
       "    </tr>\n",
       "    <tr>\n",
       "      <th>4664</th>\n",
       "      <td>Men's wear</td>\n",
       "      <td>Watches</td>\n",
       "      <td>Titan</td>\n",
       "      <td>NaN</td>\n",
       "      <td>NaN</td>\n",
       "      <td>NaN</td>\n",
       "      <td>NaN</td>\n",
       "      <td>NaN</td>\n",
       "      <td>NaN</td>\n",
       "      <td>NaN</td>\n",
       "      <td>NaN</td>\n",
       "      <td>https://rukminim1.flixcart.com/image/612/612/k...</td>\n",
       "    </tr>\n",
       "    <tr>\n",
       "      <th>4776</th>\n",
       "      <td>Men's wear</td>\n",
       "      <td>Accessories</td>\n",
       "      <td>Backpacks</td>\n",
       "      <td>NaN</td>\n",
       "      <td>NaN</td>\n",
       "      <td>NaN</td>\n",
       "      <td>NaN</td>\n",
       "      <td>NaN</td>\n",
       "      <td>NaN</td>\n",
       "      <td>NaN</td>\n",
       "      <td>NaN</td>\n",
       "      <td>https://rukminim1.flixcart.com/image/612/612/x...</td>\n",
       "    </tr>\n",
       "    <tr>\n",
       "      <th>4867</th>\n",
       "      <td>Men's wear</td>\n",
       "      <td>Accessories</td>\n",
       "      <td>Belts</td>\n",
       "      <td>NaN</td>\n",
       "      <td>NaN</td>\n",
       "      <td>NaN</td>\n",
       "      <td>NaN</td>\n",
       "      <td>NaN</td>\n",
       "      <td>NaN</td>\n",
       "      <td>NaN</td>\n",
       "      <td>NaN</td>\n",
       "      <td>https://rukminim1.flixcart.com/image/612/612/l...</td>\n",
       "    </tr>\n",
       "    <tr>\n",
       "      <th>5061</th>\n",
       "      <td>Men's wear</td>\n",
       "      <td>Personal Care Appliances</td>\n",
       "      <td>Trimmers</td>\n",
       "      <td>NaN</td>\n",
       "      <td>NaN</td>\n",
       "      <td>NaN</td>\n",
       "      <td>NaN</td>\n",
       "      <td>NaN</td>\n",
       "      <td>NaN</td>\n",
       "      <td>NaN</td>\n",
       "      <td>NaN</td>\n",
       "      <td>https://rukminim1.flixcart.com/image/612/612/k...</td>\n",
       "    </tr>\n",
       "    <tr>\n",
       "      <th>6562</th>\n",
       "      <td>Women's wear</td>\n",
       "      <td>Foot wear</td>\n",
       "      <td>Sports Shoes</td>\n",
       "      <td>NaN</td>\n",
       "      <td>NaN</td>\n",
       "      <td>NaN</td>\n",
       "      <td>NaN</td>\n",
       "      <td>NaN</td>\n",
       "      <td>NaN</td>\n",
       "      <td>NaN</td>\n",
       "      <td>NaN</td>\n",
       "      <td>https://rukminim1.flixcart.com/image/612/612/x...</td>\n",
       "    </tr>\n",
       "    <tr>\n",
       "      <th>6653</th>\n",
       "      <td>Women's wear</td>\n",
       "      <td>Foot wear</td>\n",
       "      <td>Boots</td>\n",
       "      <td>NaN</td>\n",
       "      <td>NaN</td>\n",
       "      <td>NaN</td>\n",
       "      <td>NaN</td>\n",
       "      <td>NaN</td>\n",
       "      <td>NaN</td>\n",
       "      <td>NaN</td>\n",
       "      <td>NaN</td>\n",
       "      <td>https://rukminim1.flixcart.com/image/612/612/x...</td>\n",
       "    </tr>\n",
       "    <tr>\n",
       "      <th>7498</th>\n",
       "      <td>Women's wear</td>\n",
       "      <td>Accessories</td>\n",
       "      <td>Luggage and Travel</td>\n",
       "      <td>NaN</td>\n",
       "      <td>NaN</td>\n",
       "      <td>NaN</td>\n",
       "      <td>NaN</td>\n",
       "      <td>NaN</td>\n",
       "      <td>NaN</td>\n",
       "      <td>NaN</td>\n",
       "      <td>NaN</td>\n",
       "      <td>https://rukminim1.flixcart.com/image/612/612/x...</td>\n",
       "    </tr>\n",
       "    <tr>\n",
       "      <th>8498</th>\n",
       "      <td>Bady and Kids</td>\n",
       "      <td>Kids Sunglasses</td>\n",
       "      <td>Kids Sunglasses</td>\n",
       "      <td>NaN</td>\n",
       "      <td>NaN</td>\n",
       "      <td>NaN</td>\n",
       "      <td>NaN</td>\n",
       "      <td>NaN</td>\n",
       "      <td>NaN</td>\n",
       "      <td>NaN</td>\n",
       "      <td>NaN</td>\n",
       "      <td>https://rukminim1.flixcart.com/image/612/612/x...</td>\n",
       "    </tr>\n",
       "    <tr>\n",
       "      <th>10379</th>\n",
       "      <td>Home and Furniture</td>\n",
       "      <td>Kitchen Storage</td>\n",
       "      <td>Casseroles</td>\n",
       "      <td>NaN</td>\n",
       "      <td>NaN</td>\n",
       "      <td>NaN</td>\n",
       "      <td>NaN</td>\n",
       "      <td>NaN</td>\n",
       "      <td>NaN</td>\n",
       "      <td>NaN</td>\n",
       "      <td>NaN</td>\n",
       "      <td>https://rukminim1.flixcart.com/image/612/612/k...</td>\n",
       "    </tr>\n",
       "    <tr>\n",
       "      <th>11817</th>\n",
       "      <td>Home and Furniture</td>\n",
       "      <td>Home Lighting</td>\n",
       "      <td>Ceiling Lamp</td>\n",
       "      <td>NaN</td>\n",
       "      <td>NaN</td>\n",
       "      <td>NaN</td>\n",
       "      <td>NaN</td>\n",
       "      <td>NaN</td>\n",
       "      <td>NaN</td>\n",
       "      <td>NaN</td>\n",
       "      <td>NaN</td>\n",
       "      <td>https://rukminim1.flixcart.com/image/612/612/k...</td>\n",
       "    </tr>\n",
       "    <tr>\n",
       "      <th>12001</th>\n",
       "      <td>Home and Furniture</td>\n",
       "      <td>Pet Supplies</td>\n",
       "      <td>Fish and Aquatics</td>\n",
       "      <td>NaN</td>\n",
       "      <td>NaN</td>\n",
       "      <td>NaN</td>\n",
       "      <td>NaN</td>\n",
       "      <td>NaN</td>\n",
       "      <td>NaN</td>\n",
       "      <td>NaN</td>\n",
       "      <td>NaN</td>\n",
       "      <td>https://rukminim1.flixcart.com/image/612/612/k...</td>\n",
       "    </tr>\n",
       "  </tbody>\n",
       "</table>\n",
       "</div>"
      ],
      "text/plain": [
       "                   category_1                     category_2  \\\n",
       "310    Sports, Books and More              Exercise Fitness    \n",
       "681    Sports, Books and More                Food Essentials   \n",
       "1578   Sports, Books and More  Industrial &Scientific tools    \n",
       "1936              Electronics             Mobile Accessories   \n",
       "2164              Electronics            Smart Wearable Tech   \n",
       "3557               Men's wear                    Bottom Wear   \n",
       "4516               Men's wear       Innerwear and loungewear   \n",
       "4664               Men's wear                        Watches   \n",
       "4776               Men's wear                    Accessories   \n",
       "4867               Men's wear                    Accessories   \n",
       "5061               Men's wear       Personal Care Appliances   \n",
       "6562             Women's wear                      Foot wear   \n",
       "6653             Women's wear                      Foot wear   \n",
       "7498             Women's wear                    Accessories   \n",
       "8498            Bady and Kids               Kids Sunglasses    \n",
       "10379      Home and Furniture                Kitchen Storage   \n",
       "11817      Home and Furniture                  Home Lighting   \n",
       "12001      Home and Furniture                   Pet Supplies   \n",
       "\n",
       "                             category_3 title  product_rating selling_price  \\\n",
       "310                   Cardio Equipment    NaN             NaN           NaN   \n",
       "681                         Chocolates    NaN             NaN           NaN   \n",
       "1578   Packaging and Shipping Products    NaN             NaN           NaN   \n",
       "1936                       Screenguards   NaN             NaN           NaN   \n",
       "2164                      Smart Watches   NaN             NaN           NaN   \n",
       "3557                   Casual Trousers    NaN             NaN           NaN   \n",
       "4516                       Night Suits    NaN             NaN           NaN   \n",
       "4664                             Titan    NaN             NaN           NaN   \n",
       "4776                         Backpacks    NaN             NaN           NaN   \n",
       "4867                             Belts    NaN             NaN           NaN   \n",
       "5061                          Trimmers    NaN             NaN           NaN   \n",
       "6562                      Sports Shoes    NaN             NaN           NaN   \n",
       "6653                             Boots    NaN             NaN           NaN   \n",
       "7498                Luggage and Travel    NaN             NaN           NaN   \n",
       "8498                   Kids Sunglasses    NaN             NaN           NaN   \n",
       "10379                       Casseroles    NaN             NaN           NaN   \n",
       "11817                     Ceiling Lamp    NaN             NaN           NaN   \n",
       "12001                Fish and Aquatics    NaN             NaN           NaN   \n",
       "\n",
       "       mrp seller_name  seller_rating description highlights  \\\n",
       "310    NaN         NaN            NaN         NaN        NaN   \n",
       "681    NaN         NaN            NaN         NaN        NaN   \n",
       "1578   NaN         NaN            NaN         NaN        NaN   \n",
       "1936   NaN         NaN            NaN         NaN        NaN   \n",
       "2164   NaN         NaN            NaN         NaN        NaN   \n",
       "3557   NaN         NaN            NaN         NaN        NaN   \n",
       "4516   NaN         NaN            NaN         NaN        NaN   \n",
       "4664   NaN         NaN            NaN         NaN        NaN   \n",
       "4776   NaN         NaN            NaN         NaN        NaN   \n",
       "4867   NaN         NaN            NaN         NaN        NaN   \n",
       "5061   NaN         NaN            NaN         NaN        NaN   \n",
       "6562   NaN         NaN            NaN         NaN        NaN   \n",
       "6653   NaN         NaN            NaN         NaN        NaN   \n",
       "7498   NaN         NaN            NaN         NaN        NaN   \n",
       "8498   NaN         NaN            NaN         NaN        NaN   \n",
       "10379  NaN         NaN            NaN         NaN        NaN   \n",
       "11817  NaN         NaN            NaN         NaN        NaN   \n",
       "12001  NaN         NaN            NaN         NaN        NaN   \n",
       "\n",
       "                                             image_links  \n",
       "310    https://rukminim1.flixcart.com/image/612/612/k...  \n",
       "681    https://rukminim1.flixcart.com/image/612/612/x...  \n",
       "1578   https://rukminim1.flixcart.com/image/612/612/k...  \n",
       "1936   https://rukminim1.flixcart.com/image/612/612/k...  \n",
       "2164   https://rukminim1.flixcart.com/image/612/612/x...  \n",
       "3557   https://rukminim1.flixcart.com/image/612/612/x...  \n",
       "4516   https://rukminim1.flixcart.com/image/612/612/x...  \n",
       "4664   https://rukminim1.flixcart.com/image/612/612/k...  \n",
       "4776   https://rukminim1.flixcart.com/image/612/612/x...  \n",
       "4867   https://rukminim1.flixcart.com/image/612/612/l...  \n",
       "5061   https://rukminim1.flixcart.com/image/612/612/k...  \n",
       "6562   https://rukminim1.flixcart.com/image/612/612/x...  \n",
       "6653   https://rukminim1.flixcart.com/image/612/612/x...  \n",
       "7498   https://rukminim1.flixcart.com/image/612/612/x...  \n",
       "8498   https://rukminim1.flixcart.com/image/612/612/x...  \n",
       "10379  https://rukminim1.flixcart.com/image/612/612/k...  \n",
       "11817  https://rukminim1.flixcart.com/image/612/612/k...  \n",
       "12001  https://rukminim1.flixcart.com/image/612/612/k...  "
      ]
     },
     "execution_count": 381,
     "metadata": {},
     "output_type": "execute_result"
    }
   ],
   "source": [
    "df[df.title.isna()]"
   ]
  },
  {
   "cell_type": "code",
   "execution_count": 382,
   "id": "986b8df0",
   "metadata": {},
   "outputs": [],
   "source": [
    "#fill up the title column that was NaN with the string NO TITLE\n",
    "df.title = df.title.fillna('NO TITLE')"
   ]
  },
  {
   "cell_type": "code",
   "execution_count": 383,
   "id": "f336edb3",
   "metadata": {},
   "outputs": [
    {
     "data": {
      "text/plain": [
       "category_1           0\n",
       "category_2           0\n",
       "category_3           0\n",
       "title                0\n",
       "product_rating      80\n",
       "selling_price       28\n",
       "mrp                375\n",
       "seller_name        216\n",
       "seller_rating      214\n",
       "description       7020\n",
       "highlights        5481\n",
       "image_links          0\n",
       "dtype: int64"
      ]
     },
     "execution_count": 383,
     "metadata": {},
     "output_type": "execute_result"
    }
   ],
   "source": [
    "df.isna().sum()"
   ]
  },
  {
   "cell_type": "code",
   "execution_count": 384,
   "id": "cc69caa3",
   "metadata": {},
   "outputs": [
    {
     "data": {
      "text/html": [
       "<div>\n",
       "<style scoped>\n",
       "    .dataframe tbody tr th:only-of-type {\n",
       "        vertical-align: middle;\n",
       "    }\n",
       "\n",
       "    .dataframe tbody tr th {\n",
       "        vertical-align: top;\n",
       "    }\n",
       "\n",
       "    .dataframe thead th {\n",
       "        text-align: right;\n",
       "    }\n",
       "</style>\n",
       "<table border=\"1\" class=\"dataframe\">\n",
       "  <thead>\n",
       "    <tr style=\"text-align: right;\">\n",
       "      <th></th>\n",
       "      <th>category_1</th>\n",
       "      <th>category_2</th>\n",
       "      <th>category_3</th>\n",
       "      <th>title</th>\n",
       "      <th>product_rating</th>\n",
       "      <th>selling_price</th>\n",
       "      <th>mrp</th>\n",
       "      <th>seller_name</th>\n",
       "      <th>seller_rating</th>\n",
       "      <th>description</th>\n",
       "      <th>highlights</th>\n",
       "      <th>image_links</th>\n",
       "    </tr>\n",
       "  </thead>\n",
       "  <tbody>\n",
       "    <tr>\n",
       "      <th>310</th>\n",
       "      <td>Sports, Books and More</td>\n",
       "      <td>Exercise Fitness</td>\n",
       "      <td>Cardio Equipment</td>\n",
       "      <td>NO TITLE</td>\n",
       "      <td>NaN</td>\n",
       "      <td>NaN</td>\n",
       "      <td>NaN</td>\n",
       "      <td>NaN</td>\n",
       "      <td>NaN</td>\n",
       "      <td>NaN</td>\n",
       "      <td>NaN</td>\n",
       "      <td>https://rukminim1.flixcart.com/image/612/612/k...</td>\n",
       "    </tr>\n",
       "    <tr>\n",
       "      <th>607</th>\n",
       "      <td>Sports, Books and More</td>\n",
       "      <td>Food Essentials</td>\n",
       "      <td>Nuts and Dry Fruits</td>\n",
       "      <td>HERBALIFE Weight Loss Combo pack Formula 1 + P...</td>\n",
       "      <td>NaN</td>\n",
       "      <td>₹2,710</td>\n",
       "      <td>₹4,476</td>\n",
       "      <td>NaN</td>\n",
       "      <td>NaN</td>\n",
       "      <td>Formula 1 Nutri nutritional requirements. Pack...</td>\n",
       "      <td>vitamins minerals protein</td>\n",
       "      <td>https://rukminim1.flixcart.com/image/612/612/k...</td>\n",
       "    </tr>\n",
       "    <tr>\n",
       "      <th>681</th>\n",
       "      <td>Sports, Books and More</td>\n",
       "      <td>Food Essentials</td>\n",
       "      <td>Chocolates</td>\n",
       "      <td>NO TITLE</td>\n",
       "      <td>NaN</td>\n",
       "      <td>NaN</td>\n",
       "      <td>NaN</td>\n",
       "      <td>NaN</td>\n",
       "      <td>NaN</td>\n",
       "      <td>NaN</td>\n",
       "      <td>NaN</td>\n",
       "      <td>https://rukminim1.flixcart.com/image/612/612/x...</td>\n",
       "    </tr>\n",
       "    <tr>\n",
       "      <th>721</th>\n",
       "      <td>Sports, Books and More</td>\n",
       "      <td>Food Essentials</td>\n",
       "      <td>Gifting Combos</td>\n",
       "      <td>HERBALIFE Weight Loss Combo pack Formula 1 + P...</td>\n",
       "      <td>NaN</td>\n",
       "      <td>₹2,710</td>\n",
       "      <td>₹4,476</td>\n",
       "      <td>NaN</td>\n",
       "      <td>NaN</td>\n",
       "      <td>Formula 1 Nutri nutritional requirements. Pack...</td>\n",
       "      <td>vitamins minerals protein</td>\n",
       "      <td>https://rukminim1.flixcart.com/image/612/612/k...</td>\n",
       "    </tr>\n",
       "    <tr>\n",
       "      <th>1438</th>\n",
       "      <td>Sports, Books and More</td>\n",
       "      <td>Industrial &amp;Scientific tools</td>\n",
       "      <td>Industrial Measurement Devices</td>\n",
       "      <td>DTTOOLS 25~50mm Micrometer Outside Screw Gauge...</td>\n",
       "      <td>NaN</td>\n",
       "      <td>₹889</td>\n",
       "      <td>₹1,099</td>\n",
       "      <td>NaN</td>\n",
       "      <td>NaN</td>\n",
       "      <td>NaN</td>\n",
       "      <td>NaN</td>\n",
       "      <td>https://rukminim1.flixcart.com/image/612/612/x...</td>\n",
       "    </tr>\n",
       "    <tr>\n",
       "      <th>...</th>\n",
       "      <td>...</td>\n",
       "      <td>...</td>\n",
       "      <td>...</td>\n",
       "      <td>...</td>\n",
       "      <td>...</td>\n",
       "      <td>...</td>\n",
       "      <td>...</td>\n",
       "      <td>...</td>\n",
       "      <td>...</td>\n",
       "      <td>...</td>\n",
       "      <td>...</td>\n",
       "      <td>...</td>\n",
       "    </tr>\n",
       "    <tr>\n",
       "      <th>11420</th>\n",
       "      <td>Home and Furniture</td>\n",
       "      <td>Home Improvement</td>\n",
       "      <td>Lawn and Gardening</td>\n",
       "      <td>Femily Organic STONE DUST powder for Plants Ma...</td>\n",
       "      <td>NaN</td>\n",
       "      <td>₹189</td>\n",
       "      <td>₹199</td>\n",
       "      <td>NaN</td>\n",
       "      <td>NaN</td>\n",
       "      <td>Calcium carbonate is used to help prevent the ...</td>\n",
       "      <td>Manure, Potting Mixture, Fertilizer Used for A...</td>\n",
       "      <td>https://rukminim1.flixcart.com/image/612/612/x...</td>\n",
       "    </tr>\n",
       "    <tr>\n",
       "      <th>11548</th>\n",
       "      <td>Home and Furniture</td>\n",
       "      <td>Home Décor</td>\n",
       "      <td>Clocks</td>\n",
       "      <td>BAREPEPE Digital Black Clock</td>\n",
       "      <td>NaN</td>\n",
       "      <td>NaN</td>\n",
       "      <td>NaN</td>\n",
       "      <td>NaN</td>\n",
       "      <td>NaN</td>\n",
       "      <td>NaN</td>\n",
       "      <td>Alarm Height x Width 100 mm x 160 mm Digital</td>\n",
       "      <td>https://rukminim1.flixcart.com/image/612/612/x...</td>\n",
       "    </tr>\n",
       "    <tr>\n",
       "      <th>11792</th>\n",
       "      <td>Home and Furniture</td>\n",
       "      <td>Home Lighting</td>\n",
       "      <td>Table Lamp</td>\n",
       "      <td>META White Table Lamp Table Lamp  (56 cm, White)</td>\n",
       "      <td>NaN</td>\n",
       "      <td>₹2,999</td>\n",
       "      <td>₹5,000</td>\n",
       "      <td>NaN</td>\n",
       "      <td>NaN</td>\n",
       "      <td>White Table lamp for home,bedroom,living room,...</td>\n",
       "      <td>Color: White, Gold Power Source: AC Adapter W ...</td>\n",
       "      <td>https://rukminim1.flixcart.com/image/612/612/x...</td>\n",
       "    </tr>\n",
       "    <tr>\n",
       "      <th>11817</th>\n",
       "      <td>Home and Furniture</td>\n",
       "      <td>Home Lighting</td>\n",
       "      <td>Ceiling Lamp</td>\n",
       "      <td>NO TITLE</td>\n",
       "      <td>NaN</td>\n",
       "      <td>NaN</td>\n",
       "      <td>NaN</td>\n",
       "      <td>NaN</td>\n",
       "      <td>NaN</td>\n",
       "      <td>NaN</td>\n",
       "      <td>NaN</td>\n",
       "      <td>https://rukminim1.flixcart.com/image/612/612/k...</td>\n",
       "    </tr>\n",
       "    <tr>\n",
       "      <th>12001</th>\n",
       "      <td>Home and Furniture</td>\n",
       "      <td>Pet Supplies</td>\n",
       "      <td>Fish and Aquatics</td>\n",
       "      <td>NO TITLE</td>\n",
       "      <td>NaN</td>\n",
       "      <td>NaN</td>\n",
       "      <td>NaN</td>\n",
       "      <td>NaN</td>\n",
       "      <td>NaN</td>\n",
       "      <td>NaN</td>\n",
       "      <td>NaN</td>\n",
       "      <td>https://rukminim1.flixcart.com/image/612/612/k...</td>\n",
       "    </tr>\n",
       "  </tbody>\n",
       "</table>\n",
       "<p>80 rows × 12 columns</p>\n",
       "</div>"
      ],
      "text/plain": [
       "                   category_1                     category_2  \\\n",
       "310    Sports, Books and More              Exercise Fitness    \n",
       "607    Sports, Books and More                Food Essentials   \n",
       "681    Sports, Books and More                Food Essentials   \n",
       "721    Sports, Books and More                Food Essentials   \n",
       "1438   Sports, Books and More  Industrial &Scientific tools    \n",
       "...                       ...                            ...   \n",
       "11420      Home and Furniture               Home Improvement   \n",
       "11548      Home and Furniture                     Home Décor   \n",
       "11792      Home and Furniture                  Home Lighting   \n",
       "11817      Home and Furniture                  Home Lighting   \n",
       "12001      Home and Furniture                   Pet Supplies   \n",
       "\n",
       "                            category_3  \\\n",
       "310                  Cardio Equipment    \n",
       "607               Nuts and Dry Fruits    \n",
       "681                        Chocolates    \n",
       "721                    Gifting Combos    \n",
       "1438   Industrial Measurement Devices    \n",
       "...                                ...   \n",
       "11420              Lawn and Gardening    \n",
       "11548                          Clocks    \n",
       "11792                      Table Lamp    \n",
       "11817                    Ceiling Lamp    \n",
       "12001               Fish and Aquatics    \n",
       "\n",
       "                                                   title  product_rating  \\\n",
       "310                                             NO TITLE             NaN   \n",
       "607    HERBALIFE Weight Loss Combo pack Formula 1 + P...             NaN   \n",
       "681                                             NO TITLE             NaN   \n",
       "721    HERBALIFE Weight Loss Combo pack Formula 1 + P...             NaN   \n",
       "1438   DTTOOLS 25~50mm Micrometer Outside Screw Gauge...             NaN   \n",
       "...                                                  ...             ...   \n",
       "11420  Femily Organic STONE DUST powder for Plants Ma...             NaN   \n",
       "11548                       BAREPEPE Digital Black Clock             NaN   \n",
       "11792   META White Table Lamp Table Lamp  (56 cm, White)             NaN   \n",
       "11817                                           NO TITLE             NaN   \n",
       "12001                                           NO TITLE             NaN   \n",
       "\n",
       "      selling_price     mrp seller_name  seller_rating  \\\n",
       "310             NaN     NaN         NaN            NaN   \n",
       "607          ₹2,710  ₹4,476         NaN            NaN   \n",
       "681             NaN     NaN         NaN            NaN   \n",
       "721          ₹2,710  ₹4,476         NaN            NaN   \n",
       "1438           ₹889  ₹1,099         NaN            NaN   \n",
       "...             ...     ...         ...            ...   \n",
       "11420          ₹189    ₹199         NaN            NaN   \n",
       "11548           NaN     NaN         NaN            NaN   \n",
       "11792        ₹2,999  ₹5,000         NaN            NaN   \n",
       "11817           NaN     NaN         NaN            NaN   \n",
       "12001           NaN     NaN         NaN            NaN   \n",
       "\n",
       "                                             description  \\\n",
       "310                                                  NaN   \n",
       "607    Formula 1 Nutri nutritional requirements. Pack...   \n",
       "681                                                  NaN   \n",
       "721    Formula 1 Nutri nutritional requirements. Pack...   \n",
       "1438                                                 NaN   \n",
       "...                                                  ...   \n",
       "11420  Calcium carbonate is used to help prevent the ...   \n",
       "11548                                                NaN   \n",
       "11792  White Table lamp for home,bedroom,living room,...   \n",
       "11817                                                NaN   \n",
       "12001                                                NaN   \n",
       "\n",
       "                                              highlights  \\\n",
       "310                                                  NaN   \n",
       "607                            vitamins minerals protein   \n",
       "681                                                  NaN   \n",
       "721                            vitamins minerals protein   \n",
       "1438                                                 NaN   \n",
       "...                                                  ...   \n",
       "11420  Manure, Potting Mixture, Fertilizer Used for A...   \n",
       "11548       Alarm Height x Width 100 mm x 160 mm Digital   \n",
       "11792  Color: White, Gold Power Source: AC Adapter W ...   \n",
       "11817                                                NaN   \n",
       "12001                                                NaN   \n",
       "\n",
       "                                             image_links  \n",
       "310    https://rukminim1.flixcart.com/image/612/612/k...  \n",
       "607    https://rukminim1.flixcart.com/image/612/612/k...  \n",
       "681    https://rukminim1.flixcart.com/image/612/612/x...  \n",
       "721    https://rukminim1.flixcart.com/image/612/612/k...  \n",
       "1438   https://rukminim1.flixcart.com/image/612/612/x...  \n",
       "...                                                  ...  \n",
       "11420  https://rukminim1.flixcart.com/image/612/612/x...  \n",
       "11548  https://rukminim1.flixcart.com/image/612/612/x...  \n",
       "11792  https://rukminim1.flixcart.com/image/612/612/x...  \n",
       "11817  https://rukminim1.flixcart.com/image/612/612/k...  \n",
       "12001  https://rukminim1.flixcart.com/image/612/612/k...  \n",
       "\n",
       "[80 rows x 12 columns]"
      ]
     },
     "execution_count": 384,
     "metadata": {},
     "output_type": "execute_result"
    }
   ],
   "source": [
    "df[df.product_rating.isna()]"
   ]
  },
  {
   "cell_type": "code",
   "execution_count": 385,
   "id": "d41569bb",
   "metadata": {},
   "outputs": [],
   "source": [
    "# fill up the product rating with NaN with 0\n",
    "df.product_rating = df.product_rating.fillna('0')\n"
   ]
  },
  {
   "cell_type": "code",
   "execution_count": 386,
   "id": "af75d992",
   "metadata": {},
   "outputs": [],
   "source": [
    "# fill selling price with NaN with 0\n",
    "df.selling_price = df.selling_price.fillna('0')"
   ]
  },
  {
   "cell_type": "code",
   "execution_count": 387,
   "id": "64667b5b",
   "metadata": {},
   "outputs": [],
   "source": [
    "#fill mrp with NaN with 0\n",
    "df.mrp = df.mrp.fillna('0')"
   ]
  },
  {
   "cell_type": "code",
   "execution_count": 388,
   "id": "b0a363b1",
   "metadata": {},
   "outputs": [],
   "source": [
    "# fill seller name with NaN with NO NAME\n",
    "df.seller_name = df.seller_name.fillna('NO NAME')"
   ]
  },
  {
   "cell_type": "code",
   "execution_count": 389,
   "id": "2f1d1bf4",
   "metadata": {},
   "outputs": [],
   "source": [
    "# fill seller rating with NaN with 0\n",
    "df.seller_rating = df.seller_rating.fillna('0')"
   ]
  },
  {
   "cell_type": "code",
   "execution_count": 390,
   "id": "655e4ffe",
   "metadata": {},
   "outputs": [],
   "source": [
    "# fill description with NaN with NONE\n",
    "df.description = df.description.fillna('NONE')"
   ]
  },
  {
   "cell_type": "code",
   "execution_count": 391,
   "id": "7e1147ac",
   "metadata": {},
   "outputs": [],
   "source": [
    "# fill highlights with NaN with NONE\n",
    "df.highlights = df.highlights.fillna('NONE')"
   ]
  },
  {
   "cell_type": "code",
   "execution_count": 392,
   "id": "1d075f44",
   "metadata": {},
   "outputs": [
    {
     "data": {
      "text/plain": [
       "category_1        0\n",
       "category_2        0\n",
       "category_3        0\n",
       "title             0\n",
       "product_rating    0\n",
       "selling_price     0\n",
       "mrp               0\n",
       "seller_name       0\n",
       "seller_rating     0\n",
       "description       0\n",
       "highlights        0\n",
       "image_links       0\n",
       "dtype: int64"
      ]
     },
     "execution_count": 392,
     "metadata": {},
     "output_type": "execute_result"
    }
   ],
   "source": [
    "df.isna().sum()"
   ]
  },
  {
   "cell_type": "markdown",
   "id": "0659a383",
   "metadata": {},
   "source": [
    "### All NaN fixed"
   ]
  },
  {
   "cell_type": "code",
   "execution_count": null,
   "id": "88b35de1",
   "metadata": {},
   "outputs": [],
   "source": []
  },
  {
   "cell_type": "code",
   "execution_count": 393,
   "id": "6d319c43",
   "metadata": {},
   "outputs": [
    {
     "data": {
      "text/html": [
       "<div>\n",
       "<style scoped>\n",
       "    .dataframe tbody tr th:only-of-type {\n",
       "        vertical-align: middle;\n",
       "    }\n",
       "\n",
       "    .dataframe tbody tr th {\n",
       "        vertical-align: top;\n",
       "    }\n",
       "\n",
       "    .dataframe thead th {\n",
       "        text-align: right;\n",
       "    }\n",
       "</style>\n",
       "<table border=\"1\" class=\"dataframe\">\n",
       "  <thead>\n",
       "    <tr style=\"text-align: right;\">\n",
       "      <th></th>\n",
       "      <th>category_1</th>\n",
       "      <th>category_2</th>\n",
       "      <th>category_3</th>\n",
       "      <th>title</th>\n",
       "      <th>product_rating</th>\n",
       "      <th>selling_price</th>\n",
       "      <th>mrp</th>\n",
       "      <th>seller_name</th>\n",
       "      <th>seller_rating</th>\n",
       "      <th>description</th>\n",
       "      <th>highlights</th>\n",
       "      <th>image_links</th>\n",
       "    </tr>\n",
       "  </thead>\n",
       "  <tbody>\n",
       "    <tr>\n",
       "      <th>0</th>\n",
       "      <td>Sports, Books and More</td>\n",
       "      <td>Sports</td>\n",
       "      <td>Cricket</td>\n",
       "      <td>ITWOSERVICES CRICKET NET 100X10 CRICKET NET NY...</td>\n",
       "      <td>4.4</td>\n",
       "      <td>₹1,615</td>\n",
       "      <td>₹4,000</td>\n",
       "      <td>I2SERVICES</td>\n",
       "      <td>4.4</td>\n",
       "      <td>NONE</td>\n",
       "      <td>Cricket Practice Net NYLON HDPE Material W x H...</td>\n",
       "      <td>https://rukminim1.flixcart.com/image/612/612/x...</td>\n",
       "    </tr>\n",
       "  </tbody>\n",
       "</table>\n",
       "</div>"
      ],
      "text/plain": [
       "               category_1 category_2 category_3  \\\n",
       "0  Sports, Books and More     Sports   Cricket    \n",
       "\n",
       "                                               title product_rating  \\\n",
       "0  ITWOSERVICES CRICKET NET 100X10 CRICKET NET NY...            4.4   \n",
       "\n",
       "  selling_price     mrp seller_name seller_rating description  \\\n",
       "0        ₹1,615  ₹4,000  I2SERVICES           4.4        NONE   \n",
       "\n",
       "                                          highlights  \\\n",
       "0  Cricket Practice Net NYLON HDPE Material W x H...   \n",
       "\n",
       "                                         image_links  \n",
       "0  https://rukminim1.flixcart.com/image/612/612/x...  "
      ]
     },
     "execution_count": 393,
     "metadata": {},
     "output_type": "execute_result"
    }
   ],
   "source": [
    "df.head(1)"
   ]
  },
  {
   "cell_type": "code",
   "execution_count": 394,
   "id": "ecc76159",
   "metadata": {},
   "outputs": [
    {
     "data": {
      "text/plain": [
       "category_1        object\n",
       "category_2        object\n",
       "category_3        object\n",
       "title             object\n",
       "product_rating    object\n",
       "selling_price     object\n",
       "mrp               object\n",
       "seller_name       object\n",
       "seller_rating     object\n",
       "description       object\n",
       "highlights        object\n",
       "image_links       object\n",
       "dtype: object"
      ]
     },
     "execution_count": 394,
     "metadata": {},
     "output_type": "execute_result"
    }
   ],
   "source": [
    "# check the data types of each columns\n",
    "df.dtypes"
   ]
  },
  {
   "cell_type": "markdown",
   "id": "553d6d5f",
   "metadata": {},
   "source": [
    "### Fix all the columns to their respective data types"
   ]
  },
  {
   "cell_type": "code",
   "execution_count": 395,
   "id": "d87d083a",
   "metadata": {},
   "outputs": [],
   "source": [
    "df.product_rating = df.product_rating.astype('float')"
   ]
  },
  {
   "cell_type": "code",
   "execution_count": 396,
   "id": "ae07639c",
   "metadata": {},
   "outputs": [
    {
     "data": {
      "text/plain": [
       "category_1         object\n",
       "category_2         object\n",
       "category_3         object\n",
       "title              object\n",
       "product_rating    float64\n",
       "selling_price      object\n",
       "mrp                object\n",
       "seller_name        object\n",
       "seller_rating      object\n",
       "description        object\n",
       "highlights         object\n",
       "image_links        object\n",
       "dtype: object"
      ]
     },
     "execution_count": 396,
     "metadata": {},
     "output_type": "execute_result"
    }
   ],
   "source": [
    "df.dtypes"
   ]
  },
  {
   "cell_type": "code",
   "execution_count": null,
   "id": "ffe3273f",
   "metadata": {},
   "outputs": [],
   "source": []
  },
  {
   "cell_type": "code",
   "execution_count": 397,
   "id": "ade2d93f",
   "metadata": {},
   "outputs": [
    {
     "data": {
      "text/plain": [
       "array(['₹1,615', '₹152', '₹59', ..., '₹935', '₹918', '₹1,980'],\n",
       "      dtype=object)"
      ]
     },
     "execution_count": 397,
     "metadata": {},
     "output_type": "execute_result"
    }
   ],
   "source": [
    "df.selling_price.unique()"
   ]
  },
  {
   "cell_type": "code",
   "execution_count": 398,
   "id": "98941339",
   "metadata": {},
   "outputs": [],
   "source": [
    "# to set the selling price to it respective dtype, we have to remove all foreign values to its primary value\n",
    "# to get this done, we have to define a statement that will make it happen\n",
    "def rupee(x):\n",
    "    if '₹' in x:\n",
    "        x = x.replace('₹',\"\").replace(',','')\n",
    "        return int(x)\n",
    "    else:\n",
    "        return int(x)"
   ]
  },
  {
   "cell_type": "code",
   "execution_count": 399,
   "id": "5f382d4b",
   "metadata": {},
   "outputs": [],
   "source": [
    "df.selling_price = df.selling_price.apply(rupee)\n"
   ]
  },
  {
   "cell_type": "code",
   "execution_count": 400,
   "id": "91e7d64f",
   "metadata": {},
   "outputs": [
    {
     "data": {
      "text/plain": [
       "0        1615\n",
       "1         152\n",
       "2          59\n",
       "3          75\n",
       "4         329\n",
       "         ... \n",
       "12036     380\n",
       "12037     179\n",
       "12038     354\n",
       "12039     498\n",
       "12040     239\n",
       "Name: selling_price, Length: 12041, dtype: int64"
      ]
     },
     "execution_count": 400,
     "metadata": {},
     "output_type": "execute_result"
    }
   ],
   "source": [
    "df.selling_price"
   ]
  },
  {
   "cell_type": "code",
   "execution_count": 401,
   "id": "3ca74e27",
   "metadata": {},
   "outputs": [],
   "source": [
    "# change the column name to hold the currency sign\n",
    "df = df.rename(columns={'selling_price':'selling_price ₹'})"
   ]
  },
  {
   "cell_type": "code",
   "execution_count": null,
   "id": "64e0c923",
   "metadata": {},
   "outputs": [],
   "source": []
  },
  {
   "cell_type": "code",
   "execution_count": 402,
   "id": "7ebbbc92",
   "metadata": {},
   "outputs": [
    {
     "data": {
      "text/plain": [
       "array(['₹4,000', '₹600', '₹199', ..., '₹1,920', '₹1,169', '₹896'],\n",
       "      dtype=object)"
      ]
     },
     "execution_count": 402,
     "metadata": {},
     "output_type": "execute_result"
    }
   ],
   "source": [
    "df.mrp.unique()"
   ]
  },
  {
   "cell_type": "code",
   "execution_count": 403,
   "id": "6b659ed6",
   "metadata": {},
   "outputs": [],
   "source": [
    "df.mrp = df.mrp.apply(rupee)"
   ]
  },
  {
   "cell_type": "code",
   "execution_count": 404,
   "id": "1fe0096b",
   "metadata": {},
   "outputs": [],
   "source": [
    "df = df.rename(columns={'mrp':'mrp ₹'})"
   ]
  },
  {
   "cell_type": "code",
   "execution_count": 405,
   "id": "05e5d467",
   "metadata": {},
   "outputs": [
    {
     "data": {
      "text/html": [
       "<div>\n",
       "<style scoped>\n",
       "    .dataframe tbody tr th:only-of-type {\n",
       "        vertical-align: middle;\n",
       "    }\n",
       "\n",
       "    .dataframe tbody tr th {\n",
       "        vertical-align: top;\n",
       "    }\n",
       "\n",
       "    .dataframe thead th {\n",
       "        text-align: right;\n",
       "    }\n",
       "</style>\n",
       "<table border=\"1\" class=\"dataframe\">\n",
       "  <thead>\n",
       "    <tr style=\"text-align: right;\">\n",
       "      <th></th>\n",
       "      <th>category_1</th>\n",
       "      <th>category_2</th>\n",
       "      <th>category_3</th>\n",
       "      <th>title</th>\n",
       "      <th>product_rating</th>\n",
       "      <th>selling_price ₹</th>\n",
       "      <th>mrp ₹</th>\n",
       "      <th>seller_name</th>\n",
       "      <th>seller_rating</th>\n",
       "      <th>description</th>\n",
       "      <th>highlights</th>\n",
       "      <th>image_links</th>\n",
       "    </tr>\n",
       "  </thead>\n",
       "  <tbody>\n",
       "    <tr>\n",
       "      <th>0</th>\n",
       "      <td>Sports, Books and More</td>\n",
       "      <td>Sports</td>\n",
       "      <td>Cricket</td>\n",
       "      <td>ITWOSERVICES CRICKET NET 100X10 CRICKET NET NY...</td>\n",
       "      <td>4.4</td>\n",
       "      <td>1615</td>\n",
       "      <td>4000</td>\n",
       "      <td>I2SERVICES</td>\n",
       "      <td>4.4</td>\n",
       "      <td>NONE</td>\n",
       "      <td>Cricket Practice Net NYLON HDPE Material W x H...</td>\n",
       "      <td>https://rukminim1.flixcart.com/image/612/612/x...</td>\n",
       "    </tr>\n",
       "    <tr>\n",
       "      <th>1</th>\n",
       "      <td>Sports, Books and More</td>\n",
       "      <td>Sports</td>\n",
       "      <td>Cricket</td>\n",
       "      <td>ITWOSERVICES CRICKET NET GROUND BOUNDARY NET 1...</td>\n",
       "      <td>4.4</td>\n",
       "      <td>152</td>\n",
       "      <td>600</td>\n",
       "      <td>I2SERVICES</td>\n",
       "      <td>4.4</td>\n",
       "      <td>10 X  10 GREEN CRICKET NET HDPE NYLON.</td>\n",
       "      <td>Cricket HDPE NYLON Material W x H x D: 3.048 x...</td>\n",
       "      <td>https://rukminim1.flixcart.com/image/612/612/x...</td>\n",
       "    </tr>\n",
       "  </tbody>\n",
       "</table>\n",
       "</div>"
      ],
      "text/plain": [
       "               category_1 category_2 category_3  \\\n",
       "0  Sports, Books and More     Sports   Cricket    \n",
       "1  Sports, Books and More     Sports   Cricket    \n",
       "\n",
       "                                               title  product_rating  \\\n",
       "0  ITWOSERVICES CRICKET NET 100X10 CRICKET NET NY...             4.4   \n",
       "1  ITWOSERVICES CRICKET NET GROUND BOUNDARY NET 1...             4.4   \n",
       "\n",
       "   selling_price ₹  mrp ₹ seller_name seller_rating  \\\n",
       "0             1615   4000  I2SERVICES           4.4   \n",
       "1              152    600  I2SERVICES           4.4   \n",
       "\n",
       "                              description  \\\n",
       "0                                    NONE   \n",
       "1  10 X  10 GREEN CRICKET NET HDPE NYLON.   \n",
       "\n",
       "                                          highlights  \\\n",
       "0  Cricket Practice Net NYLON HDPE Material W x H...   \n",
       "1  Cricket HDPE NYLON Material W x H x D: 3.048 x...   \n",
       "\n",
       "                                         image_links  \n",
       "0  https://rukminim1.flixcart.com/image/612/612/x...  \n",
       "1  https://rukminim1.flixcart.com/image/612/612/x...  "
      ]
     },
     "execution_count": 405,
     "metadata": {},
     "output_type": "execute_result"
    }
   ],
   "source": [
    "df.head(2)"
   ]
  },
  {
   "cell_type": "code",
   "execution_count": 406,
   "id": "1cdce6e6",
   "metadata": {},
   "outputs": [
    {
     "data": {
      "text/plain": [
       "category_1          object\n",
       "category_2          object\n",
       "category_3          object\n",
       "title               object\n",
       "product_rating     float64\n",
       "selling_price ₹      int64\n",
       "mrp ₹                int64\n",
       "seller_name         object\n",
       "seller_rating       object\n",
       "description         object\n",
       "highlights          object\n",
       "image_links         object\n",
       "dtype: object"
      ]
     },
     "execution_count": 406,
     "metadata": {},
     "output_type": "execute_result"
    }
   ],
   "source": [
    "df.dtypes"
   ]
  },
  {
   "cell_type": "code",
   "execution_count": 407,
   "id": "d04fa63c",
   "metadata": {},
   "outputs": [],
   "source": [
    "df.seller_rating =df.seller_rating.astype('float')"
   ]
  },
  {
   "cell_type": "code",
   "execution_count": 408,
   "id": "c4f6df3f",
   "metadata": {},
   "outputs": [
    {
     "data": {
      "text/plain": [
       "category_1          object\n",
       "category_2          object\n",
       "category_3          object\n",
       "title               object\n",
       "product_rating     float64\n",
       "selling_price ₹      int64\n",
       "mrp ₹                int64\n",
       "seller_name         object\n",
       "seller_rating      float64\n",
       "description         object\n",
       "highlights          object\n",
       "image_links         object\n",
       "dtype: object"
      ]
     },
     "execution_count": 408,
     "metadata": {},
     "output_type": "execute_result"
    }
   ],
   "source": [
    "df.dtypes"
   ]
  },
  {
   "cell_type": "markdown",
   "id": "b68747af",
   "metadata": {},
   "source": [
    "### All data types have been assigned "
   ]
  },
  {
   "cell_type": "code",
   "execution_count": null,
   "id": "79f55199",
   "metadata": {},
   "outputs": [],
   "source": []
  },
  {
   "cell_type": "code",
   "execution_count": 409,
   "id": "081bdd67",
   "metadata": {},
   "outputs": [
    {
     "data": {
      "text/html": [
       "<div>\n",
       "<style scoped>\n",
       "    .dataframe tbody tr th:only-of-type {\n",
       "        vertical-align: middle;\n",
       "    }\n",
       "\n",
       "    .dataframe tbody tr th {\n",
       "        vertical-align: top;\n",
       "    }\n",
       "\n",
       "    .dataframe thead th {\n",
       "        text-align: right;\n",
       "    }\n",
       "</style>\n",
       "<table border=\"1\" class=\"dataframe\">\n",
       "  <thead>\n",
       "    <tr style=\"text-align: right;\">\n",
       "      <th></th>\n",
       "      <th>category_1</th>\n",
       "      <th>category_2</th>\n",
       "      <th>category_3</th>\n",
       "      <th>title</th>\n",
       "      <th>product_rating</th>\n",
       "      <th>selling_price ₹</th>\n",
       "      <th>mrp ₹</th>\n",
       "      <th>seller_name</th>\n",
       "      <th>seller_rating</th>\n",
       "      <th>description</th>\n",
       "      <th>highlights</th>\n",
       "      <th>image_links</th>\n",
       "    </tr>\n",
       "  </thead>\n",
       "  <tbody>\n",
       "    <tr>\n",
       "      <th>0</th>\n",
       "      <td>Sports, Books and More</td>\n",
       "      <td>Sports</td>\n",
       "      <td>Cricket</td>\n",
       "      <td>ITWOSERVICES CRICKET NET 100X10 CRICKET NET NY...</td>\n",
       "      <td>4.4</td>\n",
       "      <td>1615</td>\n",
       "      <td>4000</td>\n",
       "      <td>I2SERVICES</td>\n",
       "      <td>4.4</td>\n",
       "      <td>NONE</td>\n",
       "      <td>Cricket Practice Net NYLON HDPE Material W x H...</td>\n",
       "      <td>https://rukminim1.flixcart.com/image/612/612/x...</td>\n",
       "    </tr>\n",
       "    <tr>\n",
       "      <th>1</th>\n",
       "      <td>Sports, Books and More</td>\n",
       "      <td>Sports</td>\n",
       "      <td>Cricket</td>\n",
       "      <td>ITWOSERVICES CRICKET NET GROUND BOUNDARY NET 1...</td>\n",
       "      <td>4.4</td>\n",
       "      <td>152</td>\n",
       "      <td>600</td>\n",
       "      <td>I2SERVICES</td>\n",
       "      <td>4.4</td>\n",
       "      <td>10 X  10 GREEN CRICKET NET HDPE NYLON.</td>\n",
       "      <td>Cricket HDPE NYLON Material W x H x D: 3.048 x...</td>\n",
       "      <td>https://rukminim1.flixcart.com/image/612/612/x...</td>\n",
       "    </tr>\n",
       "    <tr>\n",
       "      <th>2</th>\n",
       "      <td>Sports, Books and More</td>\n",
       "      <td>Sports</td>\n",
       "      <td>Cricket</td>\n",
       "      <td>VICTORY Medium Weight ( Pack of 1 ) Rubber Cri...</td>\n",
       "      <td>3.7</td>\n",
       "      <td>59</td>\n",
       "      <td>199</td>\n",
       "      <td>VictoryOutlets</td>\n",
       "      <td>4.7</td>\n",
       "      <td>NONE</td>\n",
       "      <td>Cricket Rubber Ball Weight: 110 g</td>\n",
       "      <td>https://rukminim1.flixcart.com/image/612/612/x...</td>\n",
       "    </tr>\n",
       "  </tbody>\n",
       "</table>\n",
       "</div>"
      ],
      "text/plain": [
       "               category_1 category_2 category_3  \\\n",
       "0  Sports, Books and More     Sports   Cricket    \n",
       "1  Sports, Books and More     Sports   Cricket    \n",
       "2  Sports, Books and More     Sports   Cricket    \n",
       "\n",
       "                                               title  product_rating  \\\n",
       "0  ITWOSERVICES CRICKET NET 100X10 CRICKET NET NY...             4.4   \n",
       "1  ITWOSERVICES CRICKET NET GROUND BOUNDARY NET 1...             4.4   \n",
       "2  VICTORY Medium Weight ( Pack of 1 ) Rubber Cri...             3.7   \n",
       "\n",
       "   selling_price ₹  mrp ₹     seller_name  seller_rating  \\\n",
       "0             1615   4000      I2SERVICES            4.4   \n",
       "1              152    600      I2SERVICES            4.4   \n",
       "2               59    199  VictoryOutlets            4.7   \n",
       "\n",
       "                              description  \\\n",
       "0                                    NONE   \n",
       "1  10 X  10 GREEN CRICKET NET HDPE NYLON.   \n",
       "2                                    NONE   \n",
       "\n",
       "                                          highlights  \\\n",
       "0  Cricket Practice Net NYLON HDPE Material W x H...   \n",
       "1  Cricket HDPE NYLON Material W x H x D: 3.048 x...   \n",
       "2                  Cricket Rubber Ball Weight: 110 g   \n",
       "\n",
       "                                         image_links  \n",
       "0  https://rukminim1.flixcart.com/image/612/612/x...  \n",
       "1  https://rukminim1.flixcart.com/image/612/612/x...  \n",
       "2  https://rukminim1.flixcart.com/image/612/612/x...  "
      ]
     },
     "execution_count": 409,
     "metadata": {},
     "output_type": "execute_result"
    }
   ],
   "source": [
    "df.head(3)"
   ]
  },
  {
   "cell_type": "code",
   "execution_count": 410,
   "id": "f5bb00d7",
   "metadata": {},
   "outputs": [
    {
     "data": {
      "text/plain": [
       "array(['Sports, Books and More', 'Electronics', \"Men's wear\",\n",
       "       \"Women's wear\", 'Bady and Kids', 'Home and Furniture'],\n",
       "      dtype=object)"
      ]
     },
     "execution_count": 410,
     "metadata": {},
     "output_type": "execute_result"
    }
   ],
   "source": [
    "df.category_1.unique()"
   ]
  },
  {
   "cell_type": "markdown",
   "id": "fa35d532",
   "metadata": {},
   "source": [
    "### The category Bady and Kids is supposed to be Baby and Kids"
   ]
  },
  {
   "cell_type": "code",
   "execution_count": 411,
   "id": "b5b68b0d",
   "metadata": {},
   "outputs": [],
   "source": [
    "# we define a statement to change all Bady and Kids to Baby and kids\n",
    "def catchange(x):\n",
    "    if 'Bady and Kids' in x:\n",
    "        x = x.replace('Bady and Kids', 'Baby and Kids')\n",
    "        return x\n",
    "    else:\n",
    "        return x"
   ]
  },
  {
   "cell_type": "code",
   "execution_count": 412,
   "id": "a3c6bf0d",
   "metadata": {},
   "outputs": [],
   "source": [
    "df.category_1 = df.category_1.apply(catchange)"
   ]
  },
  {
   "cell_type": "code",
   "execution_count": 413,
   "id": "6656184f",
   "metadata": {},
   "outputs": [
    {
     "data": {
      "text/plain": [
       "array(['Sports, Books and More', 'Electronics', \"Men's wear\",\n",
       "       \"Women's wear\", 'Baby and Kids', 'Home and Furniture'],\n",
       "      dtype=object)"
      ]
     },
     "execution_count": 413,
     "metadata": {},
     "output_type": "execute_result"
    }
   ],
   "source": [
    "df.category_1.unique()"
   ]
  },
  {
   "cell_type": "code",
   "execution_count": null,
   "id": "1cad600d",
   "metadata": {},
   "outputs": [],
   "source": []
  },
  {
   "cell_type": "markdown",
   "id": "d6ee2b1e",
   "metadata": {},
   "source": [
    "# Start EDA with Seaborn to get a more concise and comprehensive analysis"
   ]
  },
  {
   "cell_type": "code",
   "execution_count": 414,
   "id": "c28e1e2b",
   "metadata": {},
   "outputs": [
    {
     "data": {
      "text/plain": [
       "<function matplotlib.pyplot.show(close=None, block=None)>"
      ]
     },
     "execution_count": 414,
     "metadata": {},
     "output_type": "execute_result"
    },
    {
     "data": {
      "image/png": "[encoded data removed]",
      "text/plain": [
       "<Figure size 640x480 with 1 Axes>"
      ]
     },
     "metadata": {},
     "output_type": "display_data"
    }
   ],
   "source": [
    "ax = sns.barplot(x = 'category_1', y = 'selling_price ₹', data = df)\n",
    "ax.set_xticklabels(ax.get_xticklabels(), rotation=90)\n",
    "plt.show"
   ]
  },
  {
   "cell_type": "markdown",
   "id": "4438b9fa",
   "metadata": {},
   "source": [
    "## From this seaborn analysis, we can see that the Electronics category have the maximum selling price while the category Baby and Kids got the lowest sales, we have to analyse the Electronic category and the Baby and kids category to know how much they really made"
   ]
  },
  {
   "cell_type": "code",
   "execution_count": 415,
   "id": "7aa23cb1",
   "metadata": {},
   "outputs": [],
   "source": [
    "Electronics = df[df.category_1 == 'Electronics']"
   ]
  },
  {
   "cell_type": "code",
   "execution_count": 416,
   "id": "06e0e2c9",
   "metadata": {},
   "outputs": [
    {
     "data": {
      "text/plain": [
       "7079950"
      ]
     },
     "execution_count": 416,
     "metadata": {},
     "output_type": "execute_result"
    }
   ],
   "source": [
    "max_elect=Electronics['selling_price ₹'].sum()\n",
    "max_elect"
   ]
  },
  {
   "cell_type": "markdown",
   "id": "c3ee6d4c",
   "metadata": {},
   "source": [
    "## the maximum sale gotten from electronics is ₹ 7079950"
   ]
  },
  {
   "cell_type": "code",
   "execution_count": 417,
   "id": "cc4a6a66",
   "metadata": {},
   "outputs": [],
   "source": [
    "# from the analysis from the seaborn barchart, the category with the least sale is Baby and Kids, so we have to know \n",
    "# how much they really made to make them the lowest and what must have lead to the low sales"
   ]
  },
  {
   "cell_type": "code",
   "execution_count": 426,
   "id": "90d62840",
   "metadata": {},
   "outputs": [],
   "source": [
    "BnK = df[df.category_1 == 'Baby and Kids']"
   ]
  },
  {
   "cell_type": "code",
   "execution_count": 419,
   "id": "52802659",
   "metadata": {},
   "outputs": [
    {
     "data": {
      "text/plain": [
       "1185031"
      ]
     },
     "execution_count": 419,
     "metadata": {},
     "output_type": "execute_result"
    }
   ],
   "source": [
    "max_BnK = BnK['selling_price ₹'].sum()\n",
    "max_BnK"
   ]
  },
  {
   "cell_type": "markdown",
   "id": "97ce33c4",
   "metadata": {},
   "source": [
    "## the maximum sale gotten from electronics is ₹ 1185031"
   ]
  },
  {
   "cell_type": "code",
   "execution_count": null,
   "id": "594a3b0f",
   "metadata": {},
   "outputs": [],
   "source": []
  },
  {
   "cell_type": "markdown",
   "id": "07fc61a0",
   "metadata": {},
   "source": [
    "# Line chart to know the category with the most product rating"
   ]
  },
  {
   "cell_type": "code",
   "execution_count": 420,
   "id": "b9ec7fcb",
   "metadata": {
    "scrolled": false
   },
   "outputs": [
    {
     "name": "stderr",
     "output_type": "stream",
     "text": [
      "C:\\Users\\user\\AppData\\Local\\Temp\\ipykernel_6084\\2780755561.py:1: FutureWarning: \n",
      "\n",
      "The `ci` parameter is deprecated. Use `errorbar=None` for the same effect.\n",
      "\n",
      "  ww = sns.lineplot(x = 'category_1', y = 'product_rating', data = df, ci = None)\n",
      "C:\\Users\\user\\AppData\\Local\\Temp\\ipykernel_6084\\2780755561.py:2: UserWarning: FixedFormatter should only be used together with FixedLocator\n",
      "  ww.set_xticklabels(ww.get_xticklabels(), rotation=90)\n"
     ]
    },
    {
     "data": {
      "text/plain": [
       "<function matplotlib.pyplot.show(close=None, block=None)>"
      ]
     },
     "execution_count": 420,
     "metadata": {},
     "output_type": "execute_result"
    },
    {
     "data": {
      "image/png": "[encoded data removed]",
      "text/plain": [
       "<Figure size 640x480 with 1 Axes>"
      ]
     },
     "metadata": {},
     "output_type": "display_data"
    }
   ],
   "source": [
    "ww = sns.lineplot(x = 'category_1', y = 'product_rating', data = df, ci = None)\n",
    "ww.set_xticklabels(ww.get_xticklabels(), rotation=90)\n",
    "plt.show"
   ]
  },
  {
   "cell_type": "code",
   "execution_count": 421,
   "id": "f78cc376",
   "metadata": {},
   "outputs": [],
   "source": [
    "# from the analysis of the chart, we can see that the product category with the highest rating is electronis\n",
    "# while the category of products with the lowest rating is mens wear"
   ]
  },
  {
   "cell_type": "markdown",
   "id": "0f52088b",
   "metadata": {},
   "source": [
    "## Theory:"
   ]
  },
  {
   "cell_type": "markdown",
   "id": "37aa347c",
   "metadata": {},
   "source": [
    "#### Among the wears sales, women wears sell more than the men wears and \"baby and kids\", however, men wears sell more than baby wears but men have the least product rating most likely because men do not really rate their wears `accurately` judging from the number 0 rating which amounts to 20 time\n"
   ]
  },
  {
   "cell_type": "code",
   "execution_count": 422,
   "id": "a10dba2d",
   "metadata": {},
   "outputs": [],
   "source": [
    "men = df[df['category_1'] == \"Men's wear\"]"
   ]
  },
  {
   "cell_type": "code",
   "execution_count": 424,
   "id": "1e2cc4df",
   "metadata": {},
   "outputs": [
    {
     "data": {
      "text/plain": [
       "category_1         20\n",
       "category_2         20\n",
       "category_3         20\n",
       "title              20\n",
       "product_rating     20\n",
       "selling_price ₹    20\n",
       "mrp ₹              20\n",
       "seller_name        20\n",
       "seller_rating      20\n",
       "description        20\n",
       "highlights         20\n",
       "image_links        20\n",
       "dtype: int64"
      ]
     },
     "execution_count": 424,
     "metadata": {},
     "output_type": "execute_result"
    }
   ],
   "source": [
    "men[men['product_rating'] == 0].count()"
   ]
  },
  {
   "cell_type": "markdown",
   "id": "d90043be",
   "metadata": {},
   "source": [
    "#### Baby and kids wears on the other hand have less none rating which amounts to 8, this is as a result of the fact that most baby wears are bought by women who seem to participate actively in the accuracy of their rating."
   ]
  },
  {
   "cell_type": "code",
   "execution_count": 428,
   "id": "8c2105b0",
   "metadata": {},
   "outputs": [],
   "source": [
    "BnK = df[df.category_1 == 'Baby and Kids']"
   ]
  },
  {
   "cell_type": "code",
   "execution_count": 433,
   "id": "ce3fce2a",
   "metadata": {},
   "outputs": [
    {
     "data": {
      "text/plain": [
       "category_1         8\n",
       "category_2         8\n",
       "category_3         8\n",
       "title              8\n",
       "product_rating     8\n",
       "selling_price ₹    8\n",
       "mrp ₹              8\n",
       "seller_name        8\n",
       "seller_rating      8\n",
       "description        8\n",
       "highlights         8\n",
       "image_links        8\n",
       "dtype: int64"
      ]
     },
     "execution_count": 433,
     "metadata": {},
     "output_type": "execute_result"
    }
   ],
   "source": [
    "BnK[BnK.product_rating == 0].count()"
   ]
  },
  {
   "cell_type": "markdown",
   "id": "add33a14",
   "metadata": {},
   "source": [
    "### However it is of importance to note that women have the most unattended ratings but  still their product rating is higher than the other two wears categories\n"
   ]
  },
  {
   "cell_type": "code",
   "execution_count": null,
   "id": "f30080e2",
   "metadata": {},
   "outputs": [],
   "source": []
  },
  {
   "cell_type": "code",
   "execution_count": 439,
   "id": "f2792c40",
   "metadata": {},
   "outputs": [],
   "source": [
    "women = df[df['category_1'] == \"Women's wear\"]"
   ]
  },
  {
   "cell_type": "code",
   "execution_count": 440,
   "id": "c4926e96",
   "metadata": {},
   "outputs": [
    {
     "data": {
      "text/plain": [
       "category_1         28\n",
       "category_2         28\n",
       "category_3         28\n",
       "title              28\n",
       "product_rating     28\n",
       "selling_price ₹    28\n",
       "mrp ₹              28\n",
       "seller_name        28\n",
       "seller_rating      28\n",
       "description        28\n",
       "highlights         28\n",
       "image_links        28\n",
       "dtype: int64"
      ]
     },
     "execution_count": 440,
     "metadata": {},
     "output_type": "execute_result"
    }
   ],
   "source": [
    "women[women.product_rating == 0].count()"
   ]
  }
 ],
 "metadata": {
  "kernelspec": {
   "display_name": "Python 3 (ipykernel)",
   "language": "python",
   "name": "python3"
  },
  "language_info": {
   "codemirror_mode": {
    "name": "ipython",
    "version": 3
   },
   "file_extension": ".py",
   "mimetype": "text/x-python",
   "name": "python",
   "nbconvert_exporter": "python",
   "pygments_lexer": "ipython3",
   "version": "3.10.9"
  }
 },
 "nbformat": 4,
 "nbformat_minor": 5
}
